{
 "cells": [
  {
   "cell_type": "markdown",
   "metadata": {},
   "source": [
    "# Batch Prediction\n",
    "## 1. Download demo data\n",
    "```bash\n",
    "cd CEB\n",
    "wget \n",
    "unzip test_data.zip\n",
    "```\n",
    "## 2. Run batch prediction\n",
    "CEB currently only supports numpy format\n",
    "```bash\n",
    "python ceb/predict.py --model=model/socal_classifier.h5 --data_list=dataset/waveform.csv --data_dir=dataset/waveform_pred --result_dir=results\n",
    "```\n",
    "## 3. Run evaulation\n",
    "```bash\n",
    "python ceb/evaluate.py --model=model/socal_classifier.h5 --data_list=dataset/waveform.csv --data_dir=dataset/waveform_pred\n",
    "```"
   ]
  }
 ],
 "metadata": {
  "kernelspec": {
   "display_name": "Python 3",
   "language": "python",
   "name": "python3"
  },
  "language_info": {
   "codemirror_mode": {
    "name": "ipython",
    "version": 3
   },
   "file_extension": ".py",
   "mimetype": "text/x-python",
   "name": "python",
   "nbconvert_exporter": "python",
   "pygments_lexer": "ipython3",
   "version": "3.8.10"
  },
  "widgets": {
   "application/vnd.jupyter.widget-state+json": {
    "state": {},
    "version_major": 1,
    "version_minor": 0
   }
  }
 },
 "nbformat": 4,
 "nbformat_minor": 4
}
